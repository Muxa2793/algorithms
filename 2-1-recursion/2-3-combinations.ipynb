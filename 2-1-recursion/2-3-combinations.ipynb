{
 "cells": [
  {
   "cell_type": "markdown",
   "metadata": {},
   "source": [
    "#### УСЛОВИЕ\n",
    "\n",
    "На клавиатуре старых мобильных телефонов каждой цифре соответствовало несколько букв. Примерно так:\n",
    "2:'abc',\n",
    "3:'def',\n",
    "4:'ghi',\n",
    "5:'jkl',\n",
    "6:'mno',\n",
    "7:'pqrs',\n",
    "8:'tuv',\n",
    "9:'wxyz'\n",
    "Вам известно в каком порядке были нажаты кнопки телефона, без учета повторов. Напечатайте все комбинации букв, которые можно набрать такой последовательностью нажатий.\n",
    "\n",
    "#### Формат ввода\n",
    "\n",
    "На вход подается строка, состоящая из цифр 2-9 включительно. Длина строки не превосходит 10 символов.\n",
    "\n",
    "#### Формат вывода\n",
    "\n",
    "Выведите все возможные комбинации букв через пробел."
   ]
  },
  {
   "cell_type": "code",
   "execution_count": 54,
   "metadata": {},
   "outputs": [],
   "source": [
    "# function\n",
    "\n",
    "def print_combinations(ltrs, res=''):\n",
    "    for l in ltrs[0]:\n",
    "        new_res = res\n",
    "        new_res += l\n",
    "        if len(ltrs) == 1:\n",
    "            print(new_res, end=\" \")\n",
    "        else:\n",
    "            print_combinations(ltrs[1:], new_res)\n",
    "\n",
    "\n",
    "def main(args):\n",
    "    letters = {\n",
    "        '2': 'abc',\n",
    "        '3': 'def',\n",
    "        '4': 'ghi',\n",
    "        '5': 'jkl',\n",
    "        '6': 'mno',\n",
    "        '7': 'pqrs',\n",
    "        '8': 'tuv',\n",
    "        '9': 'wxyz',\n",
    "    }\n",
    "\n",
    "    letter_list = []\n",
    "\n",
    "    for arg in args:\n",
    "        letter_list.append(letters[arg])\n",
    "\n",
    "    print_combinations(letter_list)"
   ]
  },
  {
   "cell_type": "code",
   "execution_count": 55,
   "metadata": {},
   "outputs": [
    {
     "name": "stdout",
     "output_type": "stream",
     "text": [
      "res  new_res w\n",
      "res w new_res wa\n",
      "wa res w new_res wb\n",
      "wb res w new_res wc\n",
      "wc res  new_res x\n",
      "res x new_res xa\n",
      "xa res x new_res xb\n",
      "xb res x new_res xc\n",
      "xc res  new_res y\n",
      "res y new_res ya\n",
      "ya res y new_res yb\n",
      "yb res y new_res yc\n",
      "yc res  new_res z\n",
      "res z new_res za\n",
      "za res z new_res zb\n",
      "zb res z new_res zc\n",
      "zc "
     ]
    }
   ],
   "source": [
    "# tests\n",
    "if __name__ == \"__main__\":\n",
    "    main('92')"
   ]
  }
 ],
 "metadata": {
  "interpreter": {
   "hash": "12a336509fe4018928cdcecd29613d73385d0ef1b4bdae536ecb3476b65f67e3"
  },
  "kernelspec": {
   "display_name": "Python 3.10.2 ('venv': venv)",
   "language": "python",
   "name": "python3"
  },
  "language_info": {
   "codemirror_mode": {
    "name": "ipython",
    "version": 3
   },
   "file_extension": ".py",
   "mimetype": "text/x-python",
   "name": "python",
   "nbconvert_exporter": "python",
   "pygments_lexer": "ipython3",
   "version": "3.10.2"
  },
  "orig_nbformat": 4
 },
 "nbformat": 4,
 "nbformat_minor": 2
}
