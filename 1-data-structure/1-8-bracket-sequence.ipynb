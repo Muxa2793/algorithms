{
 "cells": [
  {
   "cell_type": "markdown",
   "metadata": {},
   "source": [
    "#### УСЛОВИЕ\n",
    "\n",
    "Вот какую задачу Тимофей предложил на собеседовании одному из кандидатов. Если вы с ней ещё не сталкивались, то наверняка столкнётесь –— она довольно популярная.\n",
    "Дана скобочная последовательность. Нужно определить, правильная ли она.\n",
    "Будем придерживаться такого определения:\n",
    "пустая строка —– правильная скобочная последовательность;\n",
    "правильная скобочная последовательность, взятая в скобки одного типа, –— правильная скобочная последовательность;\n",
    "правильная скобочная последовательность с приписанной слева или справа правильной скобочной последовательностью —– тоже правильная.\n",
    "На вход подаётся последовательность из скобок трёх видов: [], (), {}.\n",
    "Напишите функцию is_correct_bracket_seq, которая принимает на вход скобочную последовательность и возвращает True, если последовательность правильная, а иначе False.\n",
    "\n",
    "#### Формат ввода\n",
    "\n",
    "На вход подаётся одна строка, содержащая скобочную последовательность. Скобки записаны подряд, без пробелов.\n",
    "\n",
    "#### Формат вывода\n",
    "\n",
    "Выведите «True» или «False».\n"
   ]
  },
  {
   "cell_type": "code",
   "execution_count": null,
   "metadata": {},
   "outputs": [],
   "source": [
    "# function\n",
    "\n",
    "class LinkedList():\n",
    "    def __init__(self, value, prev=None):\n",
    "        self.value = value\n",
    "        self.prev = prev\n",
    "\n",
    "    def __str__(self):\n",
    "        return str(self.value)\n",
    "\n",
    "    def __repr__(self):\n",
    "        return str(self.value)\n",
    "\n",
    "\n",
    "def is_correct_bracket_seq(seq):\n",
    "\n",
    "    open_set = {'{', '(', '['}\n",
    "    close_set = {'}', ')', ']'}\n",
    "    pair_set = {'{}', '()', '[]'}\n",
    "\n",
    "    items = LinkedList(None)\n",
    "    \n",
    "    for s in seq:\n",
    "        if s in open_set:\n",
    "            items = LinkedList(s, items)\n",
    "        elif s in close_set:\n",
    "            pair = f'{items.value}{s}'\n",
    "            if not items.value or (pair not in pair_set):\n",
    "                return False\n",
    "            items = items.prev\n",
    "\n",
    "    if items.value:\n",
    "        return False\n",
    "    return True\n",
    "\n",
    "seq = input()\n",
    "print(is_correct_bracket_seq(seq))"
   ]
  }
 ],
 "metadata": {
  "interpreter": {
   "hash": "12a336509fe4018928cdcecd29613d73385d0ef1b4bdae536ecb3476b65f67e3"
  },
  "kernelspec": {
   "display_name": "Python 3.10.2 ('venv': venv)",
   "language": "python",
   "name": "python3"
  },
  "language_info": {
   "name": "python",
   "version": "3.10.2"
  },
  "orig_nbformat": 4
 },
 "nbformat": 4,
 "nbformat_minor": 2
}
