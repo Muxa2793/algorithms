{
 "cells": [
  {
   "cell_type": "markdown",
   "metadata": {},
   "source": [
    "#### УСЛОВИЕ\n",
    "\n",
    "Нужно реализовать класс StackMax, который поддерживает операцию определения максимума среди всех элементов в стеке. Класс должен поддерживать операции push(x), где x – целое число, pop() и get_max().\n",
    "\n",
    "#### Формат ввода\n",
    "\n",
    "В первой строке записано одно число n — количество команд, которое не превосходит 10000. В следующих n строках идут команды. Команды могут быть следующих видов:\n",
    "push(x) — добавить число x в стек;\n",
    "pop() — удалить число с вершины стека;\n",
    "get_max() — напечатать максимальное число в стеке;\n",
    "Если стек пуст, при вызове команды get_max() нужно напечатать «None», для команды pop() — «error».\n",
    "\n",
    "#### Формат вывода\n",
    "\n",
    "Для каждой команды get_max() напечатайте результат её выполнения. Если стек пустой, для команды get_max() напечатайте «None». Если происходит удаление из пустого стека — напечатайте «error»."
   ]
  },
  {
   "cell_type": "code",
   "execution_count": null,
   "metadata": {},
   "outputs": [],
   "source": [
    "# function\n",
    "\n",
    "class MaxList():\n",
    "    def __init__(self, value, prev=None):\n",
    "        self.value = value\n",
    "        self.prev = prev\n",
    "\n",
    "    def __str__(self):\n",
    "        return str(self.value)\n",
    "\n",
    "\n",
    "class Stack:\n",
    "    def __init__(self):\n",
    "        self.max = None\n",
    "        self.items = []\n",
    "\n",
    "    def push(self, item):\n",
    "        if not self.max:\n",
    "            self.max = MaxList(item)\n",
    "        elif item >= self.max.value:\n",
    "            self.max = MaxList(item, self.max)\n",
    "        self.items.append(item)\n",
    "\n",
    "    def pop(self):\n",
    "        if self.items:\n",
    "            item = self.items.pop()\n",
    "            if item == self.max.value:\n",
    "                self.max = self.max.prev\n",
    "            return item\n",
    "        print('error')\n",
    "\n",
    "    def get_max(self):\n",
    "        return self.max\n",
    "\n",
    "    def __str__(self):\n",
    "        return f'{self.items}, {self.max}'\n",
    "\n",
    "stack = Stack()\n",
    "\n",
    "n = int(input())\n",
    "for i in range(0, n):\n",
    "    commands = input().split()\n",
    "\n",
    "    if commands[0] == 'get_max':\n",
    "        max_item = stack.get_max()\n",
    "        print(max_item)\n",
    "    elif commands[0] == 'push':\n",
    "        stack.push(int(commands[1]))\n",
    "    elif commands[0] == 'pop':\n",
    "        stack.pop()\n"
   ]
  }
 ],
 "metadata": {
  "interpreter": {
   "hash": "12a336509fe4018928cdcecd29613d73385d0ef1b4bdae536ecb3476b65f67e3"
  },
  "kernelspec": {
   "display_name": "Python 3.10.2 ('venv': venv)",
   "language": "python",
   "name": "python3"
  },
  "language_info": {
   "name": "python",
   "version": "3.10.2"
  },
  "orig_nbformat": 4
 },
 "nbformat": 4,
 "nbformat_minor": 2
}
