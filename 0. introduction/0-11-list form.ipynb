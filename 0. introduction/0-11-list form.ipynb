{
 "cells": [
  {
   "cell_type": "markdown",
   "metadata": {},
   "source": [
    "#### УСЛОВИЕ\n",
    "\n",
    "Вася просил Аллу помочь решить задачу. На этот раз по информатике.\n",
    "Для неотрицательного целого числа X списочная форма –— это массив его цифр слева направо. К примеру, для 1231 списочная форма будет [1,2,3,1]. На вход подается количество цифр числа Х, списочная форма неотрицательного числа Х и неотрицательное число K. Числа К и Х не превосходят 10000.\n",
    "Нужно вернуть списочную форму числа X + K.\n",
    "\n",
    "#### Формат ввода\n",
    "В первой строке — длина списочной формы числа X. На следующей строке — сама списочная форма с цифрами записанными через пробел.\n",
    "В последней строке записано число K, 0 ≤ K ≤ 10000.\n",
    "\n",
    "#### Формат вывода\n",
    "Выведите списочную форму числа X+K."
   ]
  },
  {
   "cell_type": "markdown",
   "metadata": {},
   "source": [
    "#### Понимание\n",
    "Всё понятно"
   ]
  },
  {
   "cell_type": "code",
   "execution_count": 5,
   "metadata": {},
   "outputs": [],
   "source": [
    "def list_form(lst, k):\n",
    "    num = int(''.join(lst.split(' ')))\n",
    "    result = ' '.join(str(num + k))\n",
    "    return result\n",
    "                 "
   ]
  },
  {
   "cell_type": "code",
   "execution_count": 6,
   "metadata": {},
   "outputs": [],
   "source": [
    "assert(list_form('1 2 0 0', 34)) == '1 2 3 4'\n",
    "assert(list_form('9 5', 17)) == '1 1 2'\n"
   ]
  }
 ],
 "metadata": {
  "interpreter": {
   "hash": "12a336509fe4018928cdcecd29613d73385d0ef1b4bdae536ecb3476b65f67e3"
  },
  "kernelspec": {
   "display_name": "Python 3.10.2 ('venv': venv)",
   "language": "python",
   "name": "python3"
  },
  "language_info": {
   "codemirror_mode": {
    "name": "ipython",
    "version": 3
   },
   "file_extension": ".py",
   "mimetype": "text/x-python",
   "name": "python",
   "nbconvert_exporter": "python",
   "pygments_lexer": "ipython3",
   "version": "3.10.2"
  }
 },
 "nbformat": 4,
 "nbformat_minor": 2
}
