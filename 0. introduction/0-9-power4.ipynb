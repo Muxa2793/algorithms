{
 "cells": [
  {
   "cell_type": "markdown",
   "metadata": {},
   "source": [
    "#### УСЛОВИЕ\n",
    "\n",
    "Вася на уроке математики изучил степени. Теперь он хочет написать программу, которая определяет, будет ли положительное целое число степенью четвёрки.\n",
    "\n",
    "Подсказка: степенью четвёрки будут все числа вида 4n, где n – целое неотрицательное число.\n",
    "Формат ввода\n",
    "\n",
    "На вход подаётся целое число в диапазоне от 1 до 10000.\n",
    "Формат вывода\n",
    "\n",
    "Выведите «True», если число является степенью четырёх, «False» –— в обратном случае."
   ]
  },
  {
   "cell_type": "markdown",
   "metadata": {},
   "source": [
    "#### Понимание\n",
    "Всё понятно"
   ]
  },
  {
   "cell_type": "code",
   "execution_count": 1,
   "metadata": {},
   "outputs": [],
   "source": [
    "def multiplier(num):\n",
    "    if num == 1:\n",
    "        return True\n",
    "    while num > 4:\n",
    "        num /= 4\n",
    "    print(num)\n",
    "    if num == 4:\n",
    "        return True\n",
    "    return False"
   ]
  },
  {
   "cell_type": "code",
   "execution_count": 2,
   "metadata": {},
   "outputs": [
    {
     "name": "stdout",
     "output_type": "stream",
     "text": [
      "4.0\n",
      "3.75\n",
      "4.0\n",
      "1.234375\n",
      "1.04931640625\n"
     ]
    }
   ],
   "source": [
    "assert multiplier(16) == True\n",
    "assert multiplier(15) == False\n",
    "assert multiplier(64) == True\n",
    "assert multiplier(1) == True\n",
    "assert multiplier(79) == False\n",
    "assert multiplier(4298) == False"
   ]
  },
  {
   "cell_type": "code",
   "execution_count": null,
   "metadata": {},
   "outputs": [],
   "source": []
  }
 ],
 "metadata": {
  "interpreter": {
   "hash": "12a336509fe4018928cdcecd29613d73385d0ef1b4bdae536ecb3476b65f67e3"
  },
  "kernelspec": {
   "display_name": "Python 3.10.2 ('venv': venv)",
   "language": "python",
   "name": "python3"
  },
  "language_info": {
   "codemirror_mode": {
    "name": "ipython",
    "version": 3
   },
   "file_extension": ".py",
   "mimetype": "text/x-python",
   "name": "python",
   "nbconvert_exporter": "python",
   "pygments_lexer": "ipython3",
   "version": "3.10.2"
  }
 },
 "nbformat": 4,
 "nbformat_minor": 2
}
