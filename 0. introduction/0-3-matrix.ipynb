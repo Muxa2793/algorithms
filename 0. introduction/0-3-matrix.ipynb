{
 "cells": [
  {
   "cell_type": "markdown",
   "metadata": {},
   "source": [
    "#### Условие\n",
    "\n",
    "Дана матрица. Нужно написать функцию, которая для элемента возвращает всех его соседей. Соседним считается элемент, находящийся от текущего на одну ячейку влево, вправо, вверх или вниз. Диагональные элементы соседними не считаются.\n",
    "Например, в матрице A:\n",
    "\n",
    "![This is an image](https://contest.yandex.ru/testsys/statement-image?imageId=1f83925f47077acfa8d1519afc9bb304ae19a6d23ce714b94255d3e799a91ee0)\n",
    "\n",
    "соседними элементами для (0, 0) будут 2 и 0. А для (2, 1) –— 1, 2, 7, 7.\n",
    "\n",
    "#### Формат ввода\n",
    "\n",
    "В первой строке задано n — количество строк матрицы. Во второй — количество столбцов m. Числа m и n не превосходят 1000. В следующих n строках задана матрица. Элементы матрицы — целые числа, по модулю не превосходящие 1000. В последних двух строках записаны координаты элемента (индексация начинается с нуля), соседей которого нужно найти.\n",
    "\n",
    "#### Формат вывода\n",
    "\n",
    "Напечатайте нужные числа в возрастающем порядке через пробел."
   ]
  },
  {
   "cell_type": "code",
   "execution_count": 1,
   "metadata": {},
   "outputs": [],
   "source": [
    "def neighbours(n, m, array, x, y):\n",
    "    result = []\n",
    "    for i in range(0, n):\n",
    "        if i < n and i == y+1:\n",
    "            result.append(array[i][x])\n",
    "        if i >= 0 and i == y-1:\n",
    "            result.append(array[i][x])\n",
    "    for j in range(0, m):\n",
    "        if j < m and j == x+1:\n",
    "            result.append(array[y][j])\n",
    "        if j >= 0 and j == x-1:\n",
    "            result.append(array[y][j])\n",
    "    result = ' '.join(map(str, sorted(result)))\n",
    "    return result"
   ]
  },
  {
   "cell_type": "code",
   "execution_count": 2,
   "metadata": {},
   "outputs": [],
   "source": [
    "n = 4\n",
    "m = 3\n",
    "\n",
    "array = [\n",
    "    [1, 2, 3],\n",
    "    [0, 2, 6],\n",
    "    [7, 4, 1],\n",
    "    [2, 7, 0],\n",
    "]\n",
    "\n",
    "assert neighbours(n, m, array, 0, 0) == '0 2'\n",
    "assert neighbours(n, m, array, 1, 0) == '1 2 3'\n",
    "assert neighbours(n, m, array, 2, 0) == '2 6'\n",
    "assert neighbours(n, m, array, 0, 1) == '1 2 7'\n",
    "assert neighbours(n, m, array, 1, 1) == '0 2 4 6'\n",
    "assert neighbours(n, m, array, 2, 1) == '1 2 3'\n",
    "assert neighbours(n, m, array, 0, 2) == '0 2 4'\n",
    "assert neighbours(n, m, array, 1, 2) == '1 2 7 7'\n",
    "assert neighbours(n, m, array, 2, 2) == '0 4 6'\n",
    "assert neighbours(n, m, array, 0, 3) == '7 7'\n",
    "assert neighbours(n, m, array, 1, 3) == '0 2 4'\n",
    "assert neighbours(n, m, array, 2, 3) == '1 7'"
   ]
  },
  {
   "cell_type": "code",
   "execution_count": null,
   "metadata": {},
   "outputs": [],
   "source": []
  }
 ],
 "metadata": {
  "interpreter": {
   "hash": "12a336509fe4018928cdcecd29613d73385d0ef1b4bdae536ecb3476b65f67e3"
  },
  "kernelspec": {
   "display_name": "Python 3.10.2 ('venv': venv)",
   "language": "python",
   "name": "python3"
  },
  "language_info": {
   "codemirror_mode": {
    "name": "ipython",
    "version": 3
   },
   "file_extension": ".py",
   "mimetype": "text/x-python",
   "name": "python",
   "nbconvert_exporter": "python",
   "pygments_lexer": "ipython3",
   "version": "3.10.2"
  },
  "orig_nbformat": 4
 },
 "nbformat": 4,
 "nbformat_minor": 2
}
