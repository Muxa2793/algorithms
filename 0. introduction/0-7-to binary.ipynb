{
 "cells": [
  {
   "cell_type": "markdown",
   "metadata": {},
   "source": [
    "#### УСЛОВИЕ\n",
    "\n",
    "Вася реализовал функцию, которая переводит целое число из десятичной системы в двоичную. Но, кажется, она получилась не очень оптимальной.\n",
    "Попробуйте написать более эффективную программу. Не используйте встроенные средства языка по переводу чисел в бинарное представление.\n",
    "\n",
    "#### Формат ввода\n",
    "На вход подаётся целое число в диапазоне от 0 до 10000."
   ]
  },
  {
   "cell_type": "markdown",
   "metadata": {},
   "source": [
    "#### Понимание\n",
    "Всё понятно"
   ]
  },
  {
   "cell_type": "code",
   "execution_count": 57,
   "metadata": {},
   "outputs": [],
   "source": [
    "def to_binary(num):\n",
    "    \n",
    "    result = ''\n",
    "\n",
    "    while True:\n",
    "        result += str(num % 2)\n",
    "        num = num // 2\n",
    "        if num == 0:\n",
    "            break\n",
    "    return result[::-1]\n"
   ]
  },
  {
   "cell_type": "code",
   "execution_count": 58,
   "metadata": {},
   "outputs": [],
   "source": [
    "assert(to_binary(5)) == '101'\n",
    "assert(to_binary(14)) == '1110'\n",
    "assert(to_binary(0)) == '0'\n",
    "assert(to_binary(1)) == '1'\n",
    "assert(to_binary(2)) == '10'"
   ]
  }
 ],
 "metadata": {
  "interpreter": {
   "hash": "12a336509fe4018928cdcecd29613d73385d0ef1b4bdae536ecb3476b65f67e3"
  },
  "kernelspec": {
   "display_name": "Python 3.10.2 ('venv': venv)",
   "language": "python",
   "name": "python3"
  },
  "language_info": {
   "codemirror_mode": {
    "name": "ipython",
    "version": 3
   },
   "file_extension": ".py",
   "mimetype": "text/x-python",
   "name": "python",
   "nbconvert_exporter": "python",
   "pygments_lexer": "ipython3",
   "version": "3.10.2"
  }
 },
 "nbformat": 4,
 "nbformat_minor": 2
}
