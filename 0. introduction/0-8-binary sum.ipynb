{
 "cells": [
  {
   "cell_type": "markdown",
   "metadata": {},
   "source": [
    "#### УСЛОВИЕ\n",
    "\n",
    "Тимофей спросил у Гоши, умеет ли тот работать с числами в двоичной системе счисления. Он ответил, что проходил это на одной из первых лекций по информатике. Тимофей предложил Гоше решить задачку. Два числа записаны в двоичной системе счисления. Нужно вывести их сумму, также в двоичной системе. Встроенную в язык программирования возможность сложения двоичных чисел применять нельзя.\n",
    "Решение должно работать за O(N), где N –— количество разрядов максимального числа на входе.\n",
    "\n",
    "#### Формат ввода\n",
    "Два числа в двоичной системе счисления, каждое на отдельной строке. Длина каждого числа не превосходит 10 000 символов."
   ]
  },
  {
   "cell_type": "markdown",
   "metadata": {},
   "source": [
    "#### Понимание\n",
    "Всё понятно"
   ]
  },
  {
   "cell_type": "code",
   "execution_count": 97,
   "metadata": {},
   "outputs": [],
   "source": [
    "def binary_sum(num_1, num_2):\n",
    "    result = ''\n",
    "\n",
    "    temp = 0\n",
    "\n",
    "    if len(num_1) > len(num_2):\n",
    "        num_2 = num_2.rjust(len(num_1), '0')\n",
    "    elif len(num_1) < len(num_2):\n",
    "        num_1 = num_1.rjust(len(num_2), '0')\n",
    "\n",
    "    for i in range((len(num_1) - 1), -1, -1):\n",
    "        if num_1[i] == '0' and num_2[i] == '0' and temp != 1:\n",
    "            result += '0'\n",
    "            temp = 0\n",
    "        elif num_1[i] == '0' and num_2[i] == '0' and temp == 1:\n",
    "            result += '1'\n",
    "            temp = 0\n",
    "        elif (num_1[i] == '1' and num_2[i] == '0' and temp != 1) or (num_1[i] == '0' and num_2[i] == '1' and temp != 1):\n",
    "            result += '1'\n",
    "            temp = 0\n",
    "        elif (num_1[i] == '1' and num_2[i] == '0' and temp == 1) or (num_1[i] == '0' and num_2[i] == '1' and temp == 1):\n",
    "            result += '0'\n",
    "            temp = 1\n",
    "        elif num_1[i] == '1' and num_2[i] == '1' and temp != 1:\n",
    "            result += '0'\n",
    "            temp = 1\n",
    "        elif num_1[i] == '1' and num_2[i] == '1' and temp == 1:\n",
    "            result += '1'\n",
    "            temp = 1\n",
    "    else:\n",
    "        if temp == 1:\n",
    "            result += '1'\n",
    "\n",
    "    print(result)\n",
    "    return result[::-1]"
   ]
  },
  {
   "cell_type": "code",
   "execution_count": 98,
   "metadata": {},
   "outputs": [
    {
     "name": "stdout",
     "output_type": "stream",
     "text": [
      "10101\n",
      "01\n",
      "110111\n"
     ]
    }
   ],
   "source": [
    "assert(binary_sum('1010', '1011')) == '10101'\n",
    "assert(binary_sum('1', '1')) == '10'\n",
    "assert(binary_sum('1100', '101111')) == '111011'\n"
   ]
  }
 ],
 "metadata": {
  "interpreter": {
   "hash": "12a336509fe4018928cdcecd29613d73385d0ef1b4bdae536ecb3476b65f67e3"
  },
  "kernelspec": {
   "display_name": "Python 3.10.2 ('venv': venv)",
   "language": "python",
   "name": "python3"
  },
  "language_info": {
   "codemirror_mode": {
    "name": "ipython",
    "version": 3
   },
   "file_extension": ".py",
   "mimetype": "text/x-python",
   "name": "python",
   "nbconvert_exporter": "python",
   "pygments_lexer": "ipython3",
   "version": "3.10.2"
  }
 },
 "nbformat": 4,
 "nbformat_minor": 2
}
