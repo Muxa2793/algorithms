{
 "cells": [
  {
   "cell_type": "markdown",
   "metadata": {},
   "source": [
    "#### УСЛОВИЕ\n",
    "\n",
    "Чтобы подготовиться к семинару, Гоше надо прочитать статью по эффективному менеджменту. Так как Гоша хочет спланировать день заранее, ему необходимо оценить сложность статьи.\n",
    "Он придумал такой метод оценки: берётся случайное предложение из текста и в нём ищется самое длинное слово. Его длина и будет условной сложностью статьи.\n",
    "Помогите Гоше справиться с этой задачей.\n",
    "\n",
    "#### Формат ввода\n",
    "\n",
    "В первой строке дана длина текста L (1 ≤ L ≤ 10^5).\n",
    "В следующей строке записан текст, состоящий из строчных латинских букв и пробелов. Слово —– последовательность букв, не разделённых пробелами. Пробелы могут стоять в самом начале строки и в самом её конце. Текст заканчивается переносом строки, этот символ не включается в число остальных L символов.\n",
    "\n",
    "#### Формат вывода\n",
    "\n",
    "В первой строке выведите самое длинное слово. Во второй строке выведите его длину. Если подходящих слов несколько, выведите то, которое встречается раньше."
   ]
  },
  {
   "cell_type": "code",
   "execution_count": 3,
   "metadata": {},
   "outputs": [],
   "source": [
    "# function\n",
    "\n",
    "def check_long(l, sentence):\n",
    "\tindx_start = 0\n",
    "\tindx_end = 0\n",
    "\tresult = ''\n",
    "\tlong = 0\n",
    "\tfor i in range(l):\n",
    "\t\tif sentence[i] != ' ':\n",
    "\t\t\tindx_end += 1\n",
    "\t\tif sentence[i] == ' ':\n",
    "\t\t\tindx_end = i+1\n",
    "\t\t\tindx_start = i+1\n",
    "\t\tif indx_end - indx_start > long:\n",
    "\t\t\tlong = indx_end - indx_start\n",
    "\t\t\tresult = sentence[indx_start:indx_end]\n",
    "\treturn str(result), str(long)"
   ]
  },
  {
   "cell_type": "code",
   "execution_count": 4,
   "metadata": {},
   "outputs": [],
   "source": [
    "# tests\n",
    "assert(check_long(19, 'i love segment tree')) == ('segment', '7')\n",
    "assert(check_long(21, 'frog jumps from river')) == ('jumps', '5')"
   ]
  }
 ],
 "metadata": {
  "interpreter": {
   "hash": "12a336509fe4018928cdcecd29613d73385d0ef1b4bdae536ecb3476b65f67e3"
  },
  "kernelspec": {
   "display_name": "Python 3.10.2 ('venv': venv)",
   "language": "python",
   "name": "python3"
  },
  "language_info": {
   "codemirror_mode": {
    "name": "ipython",
    "version": 3
   },
   "file_extension": ".py",
   "mimetype": "text/x-python",
   "name": "python",
   "nbconvert_exporter": "python",
   "pygments_lexer": "ipython3",
   "version": "3.10.2"
  },
  "orig_nbformat": 4
 },
 "nbformat": 4,
 "nbformat_minor": 2
}
