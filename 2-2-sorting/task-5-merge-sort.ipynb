{
 "cells": [
  {
   "cell_type": "markdown",
   "metadata": {},
   "source": [
    "#### УСЛОВИЕ\n",
    "\n",
    "Гоше дали задание написать красивую сортировку слиянием. Поэтому Гоше обязательно надо реализовать отдельно функцию merge и функцию merge_sort.\n",
    "\n",
    "Функция merge принимает два отсортированных массива, сливает их в один отсортированный массив и возвращает его. Если требуемая сигнатура имеет вид merge(array, left, mid, right), то первый массив задаётся полуинтервалом [left,mid) массива array, а второй – полуинтервалом [mid,right) массива array. \n",
    "\n",
    "Функция merge_sort принимает некоторый подмассив, который нужно отсортировать. Подмассив задаётся полуинтервалом — его началом и концом. \n",
    "\n",
    "Функция должна отсортировать передаваемый в неё подмассив, она ничего не возвращает.\n",
    "\n",
    "Функция merge_sort разбивает полуинтервал на две половинки и рекурсивно вызывает сортировку отдельно для каждой. Затем два отсортированных массива сливаются в один с помощью merge.\n",
    "\n",
    "Заметьте, что в функции передаются именно полуинтервалы [begin,end), то есть правый конец не включается. Например, если вызвать merge_sort(arr, 0, 4), где arr=[4,5,3,0,1,2], то будут отсортированы только первые четыре элемента, изменённый массив будет выглядеть как arr=[0,3,4,5,1,2].\n",
    "Реализуйте эти две функции.\n",
    "\n",
    "#### Формат ввода\n",
    "\n",
    "Передаваемый в функции массив состоит из целых чисел, не превосходящих по модулю 10^9. Длина сортируемого диапазона не превосходит 10^5.\n",
    "\n",
    "#### Формат вывода\n",
    "\n"
   ]
  },
  {
   "cell_type": "code",
   "execution_count": 211,
   "metadata": {},
   "outputs": [
    {
     "name": "stdout",
     "output_type": "stream",
     "text": [
      "[1, 4, 2, 10, 1, 2]\n",
      "[1, 4, 2, 10, 1, 2]\n",
      "[1, 4, 2, 10, 1, 2]\n",
      "[1, 2, 4, 10, 1, 2]\n",
      "[1, 2, 4, 10, 1, 2]\n",
      "[1, 2, 4, 10, 1, 2]\n",
      "[1, 2, 4, 10, 1, 2]\n",
      "[1, 2, 4, 10, 1, 2]\n",
      "[1, 2, 4, 10, 1, 2]\n",
      "[1, 2, 4, 1, 2, 10]\n",
      "[1, 1, 2, 2, 4, 10]\n",
      "[-19, -3]\n",
      "[-19, -3]\n",
      "[-19, -3]\n"
     ]
    }
   ],
   "source": [
    "def merge(arr, lf, mid, rg):\n",
    "\tleft_arr = arr[lf:mid]\n",
    "\tright_arr = arr[mid:rg]\n",
    "\n",
    "\tk = lf\n",
    "\tl, r  = 0, 0\n",
    "\twhile lf + l < mid and mid + r < rg:\n",
    "\t\tif left_arr[l] <= right_arr[r]:\n",
    "\t\t\tarr[k] = left_arr[l]\n",
    "\t\t\tl += 1\n",
    "\t\telse:\n",
    "\t\t\tarr[k] = right_arr[r]\n",
    "\t\t\tr += 1\n",
    "\t\tk += 1\n",
    "\t\n",
    "\tif lf + l < mid:\n",
    "\t\twhile k < rg:\n",
    "\t\t\tarr[k] = left_arr[l]\n",
    "\t\t\tl += 1\n",
    "\t\t\tk += 1\n",
    "\telse:\n",
    "\t\twhile k < rg:\n",
    "\t\t\tprint('k', k, 'rg', rg,'r', r, 'arr', arr, 'right arr', right_arr)\n",
    "\t\t\tarr[k] = right_arr[r]\n",
    "\t\t\tr += 1\n",
    "\t\t\tk += 1\n",
    "\t\n",
    "\treturn arr\n",
    "\n",
    "\n",
    "def merge_sort(arr, lf, rg):\n",
    "\t\n",
    "\tif rg - lf > 1:\n",
    "\t\tmid = (rg + lf)//2\n",
    "\t\tmerge_sort(arr, lf, mid)\n",
    "\t\tmerge_sort(arr, mid, rg)\n",
    "\t\tmerge(arr, lf, mid, rg)\n",
    "\tprint(arr)\n",
    "\n",
    "# a = [1, 4, 9, 2, 10, 11]\n",
    "# b = merge(a, 0, 3, 6)\n",
    "# assert b == [1, 2, 4, 9, 10, 11]\n",
    "\n",
    "c = [1, 4, 2, 10, 1, 2]\n",
    "merge_sort(c, 0 , 6)\n",
    "assert c == [1, 1, 2, 2, 4, 10]\n",
    "\n",
    "c = [-19, -3]\n",
    "merge_sort(c, 0 , 2)\n",
    "assert c == [-19, -3]"
   ]
  },
  {
   "cell_type": "code",
   "execution_count": null,
   "metadata": {},
   "outputs": [],
   "source": [
    "\n"
   ]
  }
 ],
 "metadata": {
  "interpreter": {
   "hash": "12a336509fe4018928cdcecd29613d73385d0ef1b4bdae536ecb3476b65f67e3"
  },
  "kernelspec": {
   "display_name": "Python 3.10.2 ('venv': venv)",
   "language": "python",
   "name": "python3"
  },
  "language_info": {
   "codemirror_mode": {
    "name": "ipython",
    "version": 3
   },
   "file_extension": ".py",
   "mimetype": "text/x-python",
   "name": "python",
   "nbconvert_exporter": "python",
   "pygments_lexer": "ipython3",
   "version": "3.10.2"
  },
  "orig_nbformat": 4
 },
 "nbformat": 4,
 "nbformat_minor": 2
}
