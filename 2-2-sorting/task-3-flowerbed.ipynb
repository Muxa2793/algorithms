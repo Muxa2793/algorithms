{
 "cells": [
  {
   "cell_type": "markdown",
   "metadata": {},
   "source": [
    "#### УСЛОВИЕ\n",
    "\n",
    "Алла захотела, чтобы у неё под окном были узкие клумбы с тюльпанам. На схеме земельного участка клумбы обозначаются просто горизонтальными отрезками, лежащими на одной прямой. Для ландшафтных работ было нанято n садовников. Каждый из них обрабатывал какой-то отрезок на схеме. Процесс был организован не очень хорошо, иногда один и тот же отрезок или его часть могли быть обработаны сразу несколькими садовниками. Таким образом, отрезки, обрабатываемые двумя разными садовниками, сливаются в один. Непрерывный обработанный отрезок затем станет клумбой. Нужно определить границы будущих клумб.\n",
    "Рассмотрим примеры.\n",
    "Пример 1:\n",
    "Два одинаковых отрезка [7, 8] и [7, 8] сливаются в один, но потом их накрывает отрезок [6, 10]. Таким образом, имеем две клумбы с координатами [2,3] и [6,10].\n",
    "Пример 2\n",
    "Отрезки [2,3], [3, 4] и [3,4] сольются в один отрезок [2,4]. Отрезок [5,6] ни с кем не объединяется, добавляем его в ответ.\n",
    "\n",
    "#### Формат ввода\n",
    "\n",
    "В первой строке задано количество садовников n. Число садовников не превосходит 100 000.\n",
    "В следующих n строках через пробел записаны координаты клумб в формате: start end, где start —– координата начала, end —– координата конца. Оба числа целые, неотрицательные и не превосходят 107. start строго меньше, чем end.\n",
    "\n",
    "#### Формат вывода\n",
    "\n",
    "Нужно вывести координаты каждой из получившихся клумб в отдельных строках. Данные должны выводится в отсортированном порядке —– сначала клумбы с меньшими координатами, затем —– с бОльшими."
   ]
  },
  {
   "cell_type": "code",
   "execution_count": 186,
   "metadata": {},
   "outputs": [
    {
     "name": "stdout",
     "output_type": "stream",
     "text": [
      "[2, 3] [5, 6]\n",
      "[5, 6] [3, 4]\n",
      "[5, 6] [3, 4]\n",
      "[2, 3] [3, 4]\n",
      "[3, 4] [3, 4]\n",
      "[3, 4] [5, 6]\n",
      "[2, 3] [3, 4]\n",
      "[3, 4] [3, 4]\n",
      "[3, 4] [5, 6]\n",
      "sort time: 0.0031969547271728516\n"
     ]
    },
    {
     "ename": "AttributeError",
     "evalue": "'list' object has no attribute 'popleft'",
     "output_type": "error",
     "traceback": [
      "\u001b[0;31m---------------------------------------------------------------------------\u001b[0m",
      "\u001b[0;31mAttributeError\u001b[0m                            Traceback (most recent call last)",
      "\u001b[1;32m/Users/dreadnote/Projects/yandex/Dev/alghoritms/2-2-sorting/task-3-flowerbe.ipynb Cell 2'\u001b[0m in \u001b[0;36m<cell line: 44>\u001b[0;34m()\u001b[0m\n\u001b[1;32m     <a href='vscode-notebook-cell:/Users/dreadnote/Projects/yandex/Dev/alghoritms/2-2-sorting/task-3-flowerbe.ipynb#ch0000001?line=41'>42</a>\u001b[0m     \u001b[39mreturn\u001b[39;00m result\n\u001b[1;32m     <a href='vscode-notebook-cell:/Users/dreadnote/Projects/yandex/Dev/alghoritms/2-2-sorting/task-3-flowerbe.ipynb#ch0000001?line=43'>44</a>\u001b[0m \u001b[39mif\u001b[39;00m \u001b[39m__name__\u001b[39m \u001b[39m==\u001b[39m \u001b[39m\"\u001b[39m\u001b[39m__main__\u001b[39m\u001b[39m\"\u001b[39m:\n\u001b[1;32m     <a href='vscode-notebook-cell:/Users/dreadnote/Projects/yandex/Dev/alghoritms/2-2-sorting/task-3-flowerbe.ipynb#ch0000001?line=44'>45</a>\u001b[0m     \u001b[39m# n = int(input())\u001b[39;00m\n\u001b[1;32m     <a href='vscode-notebook-cell:/Users/dreadnote/Projects/yandex/Dev/alghoritms/2-2-sorting/task-3-flowerbe.ipynb#ch0000001?line=45'>46</a>\u001b[0m     \u001b[39m# array = deque()\u001b[39;00m\n\u001b[1;32m     <a href='vscode-notebook-cell:/Users/dreadnote/Projects/yandex/Dev/alghoritms/2-2-sorting/task-3-flowerbe.ipynb#ch0000001?line=46'>47</a>\u001b[0m     \u001b[39m# for _ in range(n):\u001b[39;00m\n\u001b[1;32m     <a href='vscode-notebook-cell:/Users/dreadnote/Projects/yandex/Dev/alghoritms/2-2-sorting/task-3-flowerbe.ipynb#ch0000001?line=47'>48</a>\u001b[0m     \u001b[39m#     array.append(list(map(int, input().split(' '))))\u001b[39;00m\n\u001b[1;32m     <a href='vscode-notebook-cell:/Users/dreadnote/Projects/yandex/Dev/alghoritms/2-2-sorting/task-3-flowerbe.ipynb#ch0000001?line=48'>49</a>\u001b[0m     \u001b[39m# x = main(array, n)\u001b[39;00m\n\u001b[0;32m---> <a href='vscode-notebook-cell:/Users/dreadnote/Projects/yandex/Dev/alghoritms/2-2-sorting/task-3-flowerbe.ipynb#ch0000001?line=49'>50</a>\u001b[0m     x \u001b[39m=\u001b[39m main([[\u001b[39m2\u001b[39;49m, \u001b[39m3\u001b[39;49m], [\u001b[39m5\u001b[39;49m, \u001b[39m6\u001b[39;49m], [\u001b[39m3\u001b[39;49m, \u001b[39m4\u001b[39;49m], [\u001b[39m3\u001b[39;49m, \u001b[39m4\u001b[39;49m]], \u001b[39m4\u001b[39;49m)\n\u001b[1;32m     <a href='vscode-notebook-cell:/Users/dreadnote/Projects/yandex/Dev/alghoritms/2-2-sorting/task-3-flowerbe.ipynb#ch0000001?line=51'>52</a>\u001b[0m     \u001b[39mfor\u001b[39;00m re \u001b[39min\u001b[39;00m x:\n\u001b[1;32m     <a href='vscode-notebook-cell:/Users/dreadnote/Projects/yandex/Dev/alghoritms/2-2-sorting/task-3-flowerbe.ipynb#ch0000001?line=52'>53</a>\u001b[0m         \u001b[39mprint\u001b[39m(\u001b[39m'\u001b[39m\u001b[39m \u001b[39m\u001b[39m'\u001b[39m\u001b[39m.\u001b[39mjoin(\u001b[39mlist\u001b[39m(\u001b[39mmap\u001b[39m(\u001b[39mstr\u001b[39m, re))))\n",
      "\u001b[1;32m/Users/dreadnote/Projects/yandex/Dev/alghoritms/2-2-sorting/task-3-flowerbe.ipynb Cell 2'\u001b[0m in \u001b[0;36mmain\u001b[0;34m(array, n)\u001b[0m\n\u001b[1;32m     <a href='vscode-notebook-cell:/Users/dreadnote/Projects/yandex/Dev/alghoritms/2-2-sorting/task-3-flowerbe.ipynb#ch0000001?line=36'>37</a>\u001b[0m \u001b[39mprint\u001b[39m(\u001b[39m'\u001b[39m\u001b[39msort time:\u001b[39m\u001b[39m'\u001b[39m, end)\n\u001b[1;32m     <a href='vscode-notebook-cell:/Users/dreadnote/Projects/yandex/Dev/alghoritms/2-2-sorting/task-3-flowerbe.ipynb#ch0000001?line=38'>39</a>\u001b[0m result \u001b[39m=\u001b[39m []\n\u001b[0;32m---> <a href='vscode-notebook-cell:/Users/dreadnote/Projects/yandex/Dev/alghoritms/2-2-sorting/task-3-flowerbe.ipynb#ch0000001?line=39'>40</a>\u001b[0m result \u001b[39m=\u001b[39m get_sections(array, result)\n\u001b[1;32m     <a href='vscode-notebook-cell:/Users/dreadnote/Projects/yandex/Dev/alghoritms/2-2-sorting/task-3-flowerbe.ipynb#ch0000001?line=41'>42</a>\u001b[0m \u001b[39mreturn\u001b[39;00m result\n",
      "\u001b[1;32m/Users/dreadnote/Projects/yandex/Dev/alghoritms/2-2-sorting/task-3-flowerbe.ipynb Cell 2'\u001b[0m in \u001b[0;36mget_sections\u001b[0;34m(array, result)\u001b[0m\n\u001b[1;32m     <a href='vscode-notebook-cell:/Users/dreadnote/Projects/yandex/Dev/alghoritms/2-2-sorting/task-3-flowerbe.ipynb#ch0000001?line=12'>13</a>\u001b[0m     \u001b[39melse\u001b[39;00m:\n\u001b[1;32m     <a href='vscode-notebook-cell:/Users/dreadnote/Projects/yandex/Dev/alghoritms/2-2-sorting/task-3-flowerbe.ipynb#ch0000001?line=13'>14</a>\u001b[0m         result\u001b[39m.\u001b[39mappend([start1, end1])\n\u001b[0;32m---> <a href='vscode-notebook-cell:/Users/dreadnote/Projects/yandex/Dev/alghoritms/2-2-sorting/task-3-flowerbe.ipynb#ch0000001?line=15'>16</a>\u001b[0m     array\u001b[39m.\u001b[39;49mpopleft()\n\u001b[1;32m     <a href='vscode-notebook-cell:/Users/dreadnote/Projects/yandex/Dev/alghoritms/2-2-sorting/task-3-flowerbe.ipynb#ch0000001?line=17'>18</a>\u001b[0m result\u001b[39m.\u001b[39mappend(array[\u001b[39m0\u001b[39m])\n\u001b[1;32m     <a href='vscode-notebook-cell:/Users/dreadnote/Projects/yandex/Dev/alghoritms/2-2-sorting/task-3-flowerbe.ipynb#ch0000001?line=18'>19</a>\u001b[0m \u001b[39mreturn\u001b[39;00m result\n",
      "\u001b[0;31mAttributeError\u001b[0m: 'list' object has no attribute 'popleft'"
     ]
    }
   ],
   "source": [
    "from collections import deque\n",
    "import time\n",
    "\n",
    "\n",
    "def get_sections(array, result):\n",
    "    while len(array) != 1:\n",
    "    \n",
    "        start1, start2, end1, end2 = array[0][0], array[1][0], array[0][1], array[1][-1]\n",
    "\n",
    "        if (start1 - end2) * (start2 - end1) >= 0:\n",
    "            interval = [min(start1, start2), max(end1, end2)]\n",
    "            array[1] = interval\n",
    "        else:\n",
    "            result.append([start1, end1])\n",
    "\n",
    "        array.popleft()\n",
    "    \n",
    "    result.append(array[0])\n",
    "    return result\n",
    "    \n",
    "\n",
    "\n",
    "def main(array=None, n=0):\n",
    "    start = time.time()\n",
    "    for j in range(n - 1):\n",
    "        \n",
    "        for i in range(n - 1):\n",
    "            \n",
    "            left = array[i]\n",
    "            right = array[i+1]\n",
    "\n",
    "            if left > right:\n",
    "                array[i], array[i + 1] = array[i + 1], array[i]\n",
    "            print(left, right)\n",
    "                \n",
    "    end = time.time() - start\n",
    "    print('sort time:', end)\n",
    "\n",
    "    result = []\n",
    "    result = get_sections(array, result)\n",
    "    \n",
    "    return result\n",
    "\n",
    "if __name__ == \"__main__\":\n",
    "    # n = int(input())\n",
    "    # array = deque()\n",
    "    # for _ in range(n):\n",
    "    #     array.append(list(map(int, input().split(' '))))\n",
    "    # x = main(array, n)\n",
    "    x = main([[2, 3], [5, 6], [3, 4], [3, 4]], 4)\n",
    "    \n",
    "    for re in x:\n",
    "        print(' '.join(list(map(str, re))))"
   ]
  },
  {
   "cell_type": "code",
   "execution_count": null,
   "metadata": {},
   "outputs": [],
   "source": [
    "# import numpy as np\n",
    "# import time\n",
    "\n",
    "# array = deque(np.random.randint(10**6, 10**7, (100000, 2)).tolist())\n",
    "# start = time.time()\n",
    "# x = main(array, 4)\n",
    "# end = time.time() - start\n",
    "# print(end)\n",
    "    \n",
    "# for re in x:\n",
    "#     print(' '.join(list(map(str, re))))\n",
    "\n"
   ]
  },
  {
   "cell_type": "code",
   "execution_count": null,
   "metadata": {},
   "outputs": [],
   "source": []
  }
 ],
 "metadata": {
  "interpreter": {
   "hash": "12a336509fe4018928cdcecd29613d73385d0ef1b4bdae536ecb3476b65f67e3"
  },
  "kernelspec": {
   "display_name": "Python 3.10.2 ('venv': venv)",
   "language": "python",
   "name": "python3"
  },
  "language_info": {
   "codemirror_mode": {
    "name": "ipython",
    "version": 3
   },
   "file_extension": ".py",
   "mimetype": "text/x-python",
   "name": "python",
   "nbconvert_exporter": "python",
   "pygments_lexer": "ipython3",
   "version": "3.10.2"
  },
  "orig_nbformat": 4
 },
 "nbformat": 4,
 "nbformat_minor": 2
}
