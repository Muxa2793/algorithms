{
 "cells": [
  {
   "cell_type": "markdown",
   "metadata": {},
   "source": [
    "#### УСЛОВИЕ\n",
    "\n",
    "Рита решила оставить у себя одежду только трёх цветов: розового, жёлтого и малинового. После того как вещи других расцветок были убраны, Рита захотела отсортировать свой новый гардероб по цветам. Сначала должны идти вещи розового цвета, потом —– жёлтого, и в конце —– малинового. Помогите Рите справиться с этой задачей.\n",
    "Примечание: попробуйте решить задачу за один проход по массиву!\n",
    "\n",
    "#### Формат ввода\n",
    "\n",
    "В первой строке задано количество предметов в гардеробе: n –— оно не превосходит 1000000. Во второй строке даётся массив, в котором указан цвет для каждого предмета. Розовый цвет обозначен 0, жёлтый —– 1, малиновый –— 2.\n",
    "\n",
    "#### Формат вывода\n",
    "\n",
    "Нужно вывести в строку через пробел цвета предметов в правильном порядке."
   ]
  },
  {
   "cell_type": "code",
   "execution_count": 20,
   "metadata": {},
   "outputs": [
    {
     "name": "stdout",
     "output_type": "stream",
     "text": [
      "1\n"
     ]
    }
   ],
   "source": [
    "def counting_sort(arr, n):\n",
    "    repeat_arr = [0] * (n + 1)\n",
    "    for item in arr:\n",
    "        repeat_arr[item] += 1\n",
    "\n",
    "    sort_arr = []\n",
    "\n",
    "    for num in range(n+1):\n",
    "        sort_arr += [num] * repeat_arr[num]\n",
    "\n",
    "    return sort_arr\n",
    "\n",
    "\n",
    "def main():\n",
    "    n = int(input())\n",
    "    arr = list(map(int, input().split()))\n",
    "    sort_arr = counting_sort(arr, n)\n",
    "    print(\" \".join(list(map(str, sort_arr))))\n",
    "\n",
    "\n",
    "if __name__ == \"__main__\":\n",
    "    main()"
   ]
  },
  {
   "cell_type": "code",
   "execution_count": 21,
   "metadata": {},
   "outputs": [],
   "source": [
    "# tests\n",
    "assert(counting_sort([0, 2, 1, 2, 0, 0, 1], 7)) == [0, 0, 0, 1, 1, 2, 2]"
   ]
  }
 ],
 "metadata": {
  "interpreter": {
   "hash": "12a336509fe4018928cdcecd29613d73385d0ef1b4bdae536ecb3476b65f67e3"
  },
  "kernelspec": {
   "display_name": "Python 3.10.2 ('venv': venv)",
   "language": "python",
   "name": "python3"
  },
  "language_info": {
   "codemirror_mode": {
    "name": "ipython",
    "version": 3
   },
   "file_extension": ".py",
   "mimetype": "text/x-python",
   "name": "python",
   "nbconvert_exporter": "python",
   "pygments_lexer": "ipython3",
   "version": "3.10.2"
  },
  "orig_nbformat": 4
 },
 "nbformat": 4,
 "nbformat_minor": 2
}
