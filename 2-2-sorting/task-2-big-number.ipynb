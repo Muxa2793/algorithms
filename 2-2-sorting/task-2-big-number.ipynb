{
 "cells": [
  {
   "cell_type": "markdown",
   "metadata": {},
   "source": [
    "#### УСЛОВИЕ\n",
    "\n",
    "Вечером ребята решили поиграть в игру «Большое число». \n",
    "Даны числа. Нужно определить, какое самое большое число можно из них составить.\n",
    "\n",
    "#### Формат ввода\n",
    "\n",
    "В первой строке записано n — количество чисел. Оно не превосходит 100.\n",
    "Во второй строке через пробел записаны n неотрицательных чисел, каждое из которых не превосходит 1000.\n",
    "\n",
    "#### Формат вывода\n",
    "\n",
    "Нужно вывести самое большое число, которое можно составить из данных чисел."
   ]
  },
  {
   "cell_type": "code",
   "execution_count": 14,
   "metadata": {},
   "outputs": [
    {
     "name": "stdout",
     "output_type": "stream",
     "text": [
      "56215\n"
     ]
    }
   ],
   "source": [
    "def main(data, n):\n",
    "    for j in range(n - 1):\n",
    "        for i in range(n - 1):\n",
    "            num_1 = list(data[i])\n",
    "            num_2 = list(data[i+1])\n",
    "\n",
    "            if num_1 + num_2 < num_2 + num_1:\n",
    "                data[i], data[i + 1] = data[i + 1], data[i]\n",
    "    return \"\".join(data)\n",
    "\n",
    "if __name__ == \"__main__\":\n",
    "    n = int(input())\n",
    "    data = input().split(' ')\n",
    "    print(main(data, n))"
   ]
  },
  {
   "cell_type": "code",
   "execution_count": 16,
   "metadata": {},
   "outputs": [],
   "source": [
    "assert(main(['15', '56', '2'], 3)) == '56215'"
   ]
  }
 ],
 "metadata": {
  "interpreter": {
   "hash": "12a336509fe4018928cdcecd29613d73385d0ef1b4bdae536ecb3476b65f67e3"
  },
  "kernelspec": {
   "display_name": "Python 3.10.2 ('venv': venv)",
   "language": "python",
   "name": "python3"
  },
  "language_info": {
   "codemirror_mode": {
    "name": "ipython",
    "version": 3
   },
   "file_extension": ".py",
   "mimetype": "text/x-python",
   "name": "python",
   "nbconvert_exporter": "python",
   "pygments_lexer": "ipython3",
   "version": "3.10.2"
  },
  "orig_nbformat": 4
 },
 "nbformat": 4,
 "nbformat_minor": 2
}
