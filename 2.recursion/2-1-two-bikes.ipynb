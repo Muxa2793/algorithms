{
 "cells": [
  {
   "cell_type": "markdown",
   "metadata": {},
   "source": [
    "#### УСЛОВИЕ\n",
    "\n",
    "Вася решил накопить денег на два одинаковых велосипеда — себе и сестре. У Васи есть копилка, в которую каждый день он может добавлять деньги (если, конечно, у него есть такая финансовая возможность). В процессе накопления Вася не вынимает деньги из копилки.\n",
    "У вас есть информация о росте Васиных накоплений — сколько у Васи в копилке было денег в каждый из дней.\n",
    "Ваша задача — по заданной стоимости велосипеда определить\n",
    "первый день, в которой Вася смог бы купить один велосипед,\n",
    "и первый день, в который Вася смог бы купить два велосипеда.\n",
    "Подсказка: решение должно работать за O(log n).\n",
    "\n",
    "#### Формат ввода\n",
    "\n",
    "В первой строке дано число дней n, по которым велись наблюдения за Васиными накоплениями. 1 ≤ n ≤ 10^6.\n",
    "В следующей строке записаны n целых неотрицательных чисел. Числа идут в порядке неубывания. Каждое из чисел не превосходит 10^6.\n",
    "В третьей строке записано целое положительное число s — стоимость велосипеда. Это число не превосходит 10^6.\n",
    "\n",
    "#### Формат вывода\n",
    "\n",
    "Нужно вывести два числа — номера дней по условию задачи.\n",
    "Если необходимой суммы в копилке не нашлось, нужно вернуть -1 вместо номера дня."
   ]
  },
  {
   "cell_type": "code",
   "execution_count": 35,
   "metadata": {},
   "outputs": [],
   "source": [
    "# function\n",
    "\n",
    "def search(days, price, left, right, day=-1):\n",
    "    if right <= left:\n",
    "        return day\n",
    "    \n",
    "    mid = (left + right) // 2\n",
    "\n",
    "    if price <= days[mid]:\n",
    "        day = mid + 1\n",
    "        return search(days, price, left, mid, day)  \n",
    "    return search(days, price, mid+1, right, day)\n",
    "\n",
    "\n",
    "def main(days, price, left, right):\n",
    "    \n",
    "    day_one = search(days, price, left, right)\n",
    "    day_two = search(days, price*2, left, right)\n",
    "\n",
    "    return day_one, day_two\n"
   ]
  },
  {
   "cell_type": "code",
   "execution_count": 36,
   "metadata": {},
   "outputs": [
    {
     "ename": "AssertionError",
     "evalue": "",
     "output_type": "error",
     "traceback": [
      "\u001b[0;31m---------------------------------------------------------------------------\u001b[0m",
      "\u001b[0;31mAssertionError\u001b[0m                            Traceback (most recent call last)",
      "\u001b[1;32m/Users/dreadnote/Projects/yandex/Dev/alghoritms/2.recursion/2-1-two-bikes.ipynb Cell 3'\u001b[0m in \u001b[0;36m<cell line: 2>\u001b[0;34m()\u001b[0m\n\u001b[1;32m      <a href='vscode-notebook-cell:/Users/dreadnote/Projects/yandex/Dev/alghoritms/2.recursion/2-1-two-bikes.ipynb#ch0000002?line=6'>7</a>\u001b[0m days \u001b[39m=\u001b[39m [\u001b[39m1\u001b[39m, \u001b[39m2\u001b[39m, \u001b[39m4\u001b[39m, \u001b[39m4\u001b[39m, \u001b[39m4\u001b[39m, \u001b[39m4\u001b[39m]\n\u001b[1;32m      <a href='vscode-notebook-cell:/Users/dreadnote/Projects/yandex/Dev/alghoritms/2.recursion/2-1-two-bikes.ipynb#ch0000002?line=7'>8</a>\u001b[0m price \u001b[39m=\u001b[39m \u001b[39m3\u001b[39m\n\u001b[0;32m----> <a href='vscode-notebook-cell:/Users/dreadnote/Projects/yandex/Dev/alghoritms/2.recursion/2-1-two-bikes.ipynb#ch0000002?line=8'>9</a>\u001b[0m \u001b[39massert\u001b[39;00m main(days, price, \u001b[39m0\u001b[39m, \u001b[39mlen\u001b[39m(days)) \u001b[39m==\u001b[39m (\u001b[39m3\u001b[39m, \u001b[39m-\u001b[39m\u001b[39m1\u001b[39m)\n\u001b[1;32m     <a href='vscode-notebook-cell:/Users/dreadnote/Projects/yandex/Dev/alghoritms/2.recursion/2-1-two-bikes.ipynb#ch0000002?line=10'>11</a>\u001b[0m days \u001b[39m=\u001b[39m [\u001b[39m1\u001b[39m, \u001b[39m2\u001b[39m, \u001b[39m4\u001b[39m, \u001b[39m4\u001b[39m, \u001b[39m4\u001b[39m, \u001b[39m4\u001b[39m]\n\u001b[1;32m     <a href='vscode-notebook-cell:/Users/dreadnote/Projects/yandex/Dev/alghoritms/2.recursion/2-1-two-bikes.ipynb#ch0000002?line=11'>12</a>\u001b[0m price \u001b[39m=\u001b[39m \u001b[39m10\u001b[39m\n",
      "\u001b[0;31mAssertionError\u001b[0m: "
     ]
    }
   ],
   "source": [
    "# tests\n",
    "if __name__ == '__main__':\n",
    "    days = [1, 2, 4, 4, 6, 8]\n",
    "    price = 3\n",
    "    assert main(days, price, 0, len(days)) == (3, 5)\n",
    "\n",
    "    days = [1, 2, 4, 4, 4, 4]\n",
    "    price = 3\n",
    "    assert main(days, price, 0, len(days)) == (3, -1)\n",
    "\n",
    "    days = [1, 2, 4, 4, 4, 4]\n",
    "    price = 10\n",
    "    assert main(days, price, 0, len(days)) == (-1, -1)\n",
    "\n",
    "    days = [1, 2, 4, 4, 4, 4]\n",
    "    price = 1\n",
    "    assert main(days, price, 0, len(days)) == (1, 2)\n",
    "\n",
    "    days = [1, 1, 4, 4, 4, 4]\n",
    "    price = 1\n",
    "    assert main(days, price, 0, len(days)) == (1, 3)\n",
    "\n",
    "\n",
    "    # n = int(input())\n",
    "    # days = list(map(int, input().split()))\n",
    "    # price = int(input())\n",
    "    # result = main(days, price, 0, len(days))\n",
    "    # print(result[0], result[1])"
   ]
  }
 ],
 "metadata": {
  "interpreter": {
   "hash": "12a336509fe4018928cdcecd29613d73385d0ef1b4bdae536ecb3476b65f67e3"
  },
  "kernelspec": {
   "display_name": "Python 3.10.2 ('venv': venv)",
   "language": "python",
   "name": "python3"
  },
  "language_info": {
   "codemirror_mode": {
    "name": "ipython",
    "version": 3
   },
   "file_extension": ".py",
   "mimetype": "text/x-python",
   "name": "python",
   "nbconvert_exporter": "python",
   "pygments_lexer": "ipython3",
   "version": "3.10.2"
  },
  "orig_nbformat": 4
 },
 "nbformat": 4,
 "nbformat_minor": 2
}
