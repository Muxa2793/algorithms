{
 "cells": [
  {
   "cell_type": "markdown",
   "metadata": {},
   "source": [
    "#### УСЛОВИЕ\n",
    "\n",
    "Рита по поручению Тимофея наводит порядок в правильных скобочных последовательностях (ПСП), состоящих только из круглых скобок (). Для этого ей надо сгенерировать все ПСП длины 2n в алфавитном порядке —– алфавит состоит из ( и ) и открывающая скобка идёт раньше закрывающей.\n",
    "Помогите Рите —– напишите программу, которая по заданному n выведет все ПСП в нужном порядке.\n",
    "Рассмотрим второй пример. Надо вывести ПСП из четырёх символов. Таких всего две:\n",
    "(())\n",
    "()()\n",
    "(()) идёт раньше ()(), так как первый символ у них одинаковый, а на второй позиции у первой ПСП стоит (, который идёт раньше ).\n",
    "\n",
    "#### Формат ввода\n",
    "\n",
    "На вход функция принимает n — целое число от 0 до 10.\n",
    "\n",
    "#### Формат вывода\n",
    "\n",
    "Функция должна напечатать все возможные скобочные последовательности заданной длины в алфавитном (лексикографическом) порядке."
   ]
  },
  {
   "cell_type": "code",
   "execution_count": 13,
   "metadata": {},
   "outputs": [],
   "source": [
    "# function\n",
    "\n",
    "def main(seq, left, right, n):\n",
    "    if left == n and right == n:\n",
    "        print(seq)\n",
    "    else:\n",
    "        if left < n:\n",
    "            main(seq + '(', left + 1, right, n)\n",
    "        if right < left:\n",
    "            main(seq + ')', left, right + 1, n)\n",
    "    "
   ]
  },
  {
   "cell_type": "code",
   "execution_count": 14,
   "metadata": {},
   "outputs": [
    {
     "name": "stdout",
     "output_type": "stream",
     "text": [
      "((\n",
      "()(\n"
     ]
    }
   ],
   "source": [
    "# tests\n",
    "if __name__ == '__main__':\n",
    "\n",
    "    n = int(input())\n",
    "    main('', 0, 0, n)"
   ]
  }
 ],
 "metadata": {
  "interpreter": {
   "hash": "12a336509fe4018928cdcecd29613d73385d0ef1b4bdae536ecb3476b65f67e3"
  },
  "kernelspec": {
   "display_name": "Python 3.10.2 ('venv': venv)",
   "language": "python",
   "name": "python3"
  },
  "language_info": {
   "codemirror_mode": {
    "name": "ipython",
    "version": 3
   },
   "file_extension": ".py",
   "mimetype": "text/x-python",
   "name": "python",
   "nbconvert_exporter": "python",
   "pygments_lexer": "ipython3",
   "version": "3.10.2"
  },
  "orig_nbformat": 4
 },
 "nbformat": 4,
 "nbformat_minor": 2
}
