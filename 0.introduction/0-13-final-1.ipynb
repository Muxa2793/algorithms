{
 "cells": [
  {
   "cell_type": "markdown",
   "metadata": {},
   "source": [
    "#### УСЛОВИЕ\n",
    "\n",
    "Улица, на которой хочет жить Тимофей, имеет длину n, то есть состоит из n одинаковых идущих подряд участков. На каждом участке либо уже построен дом, либо участок пустой. Тимофей ищет место для строительства своего дома. Он очень общителен и не хочет жить далеко от других людей, живущих на этой улице.\n",
    "Чтобы оптимально выбрать место для строительства, Тимофей хочет для каждого участка знать расстояние до ближайшего пустого участка. (Для пустого участка эта величина будет равна нулю –— расстояние до самого себя).\n",
    "Ваша задача –— помочь Тимофею посчитать искомые расстояния. Для этого у вас есть карта улицы. Дома в городе Тимофея нумеровались в том порядке, в котором строились, поэтому их номера на карте никак не упорядочены. Пустые участки обозначены нулями.\n",
    "\n",
    "#### Формат ввода\n",
    "В первой строке дана длина улицы —– n (1 ≤ n ≤ 10^6). В следующей строке записаны n целых неотрицательных чисел — номера домов и обозначения пустых участков на карте (нули). Гарантируется, что в последовательности есть хотя бы один ноль. Номера домов (положительные числа) уникальны и не превосходят 10^9.\n",
    "\n",
    "#### Формат вывода\n",
    "Для каждого из участков выведите расстояние до ближайшего нуля. Числа выводите в одну строку, разделяя их пробелами."
   ]
  },
  {
   "cell_type": "code",
   "execution_count": 53,
   "metadata": {},
   "outputs": [],
   "source": [
    "def calculate_distance(street_lenght, numbers):\n",
    "\n",
    "    dist = street_lenght\n",
    "    result = [0]*street_lenght\n",
    "\n",
    "    for i in range(0, street_lenght):\n",
    "        if numbers[i] == 0:\n",
    "            dist = 0\n",
    "        else:\n",
    "            dist += 1\n",
    "        result[i] = dist\n",
    "\n",
    "    return result\n",
    "    \n",
    "def main(street_lenght, numbers):\n",
    "\n",
    "    distance_1 = calculate_distance(street_lenght, numbers)\n",
    "    distance_2 = calculate_distance(street_lenght, numbers[::-1])[::-1]\n",
    "\n",
    "    result = []\n",
    "\n",
    "    for i in range(0, street_lenght):\n",
    "        if distance_1[i] < distance_2[i]:\n",
    "            result.append(str(distance_1[i]))\n",
    "        else:\n",
    "            result.append(str(distance_2[i]))\n",
    "    \n",
    "    result = ' '.join(result)\n",
    "\n",
    "    return result\n",
    "  "
   ]
  },
  {
   "cell_type": "code",
   "execution_count": 54,
   "metadata": {},
   "outputs": [],
   "source": [
    "assert(main(6, [0, 7, 9, 4, 8, 20])) == '0 1 2 3 4 5'\n",
    "assert(main(5, [0, 1, 4, 9, 0])) == '0 1 2 1 0'\n"
   ]
  },
  {
   "cell_type": "code",
   "execution_count": 58,
   "metadata": {},
   "outputs": [
    {
     "name": "stdout",
     "output_type": "stream",
     "text": [
      "0 1 2 1 0\n"
     ]
    }
   ],
   "source": [
    "street_lenght = int(input())\n",
    "numbers = list(map(int, input().split()))\n",
    "print(main(street_lenght, numbers))"
   ]
  }
 ],
 "metadata": {
  "interpreter": {
   "hash": "12a336509fe4018928cdcecd29613d73385d0ef1b4bdae536ecb3476b65f67e3"
  },
  "kernelspec": {
   "display_name": "Python 3.10.2 ('venv': venv)",
   "language": "python",
   "name": "python3"
  },
  "language_info": {
   "codemirror_mode": {
    "name": "ipython",
    "version": 3
   },
   "file_extension": ".py",
   "mimetype": "text/x-python",
   "name": "python",
   "nbconvert_exporter": "python",
   "pygments_lexer": "ipython3",
   "version": "3.10.2"
  }
 },
 "nbformat": 4,
 "nbformat_minor": 2
}
