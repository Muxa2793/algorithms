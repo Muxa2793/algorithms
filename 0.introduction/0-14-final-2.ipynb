{
 "cells": [
  {
   "cell_type": "markdown",
   "metadata": {},
   "source": [
    "#### УСЛОВИЕ\n",
    "\n",
    "Гоша и Тимофей нашли необычный тренажёр для скоростной печати и хотят освоить его. Тренажёр представляет собой поле из клавиш 4× 4, в котором на каждом раунде появляется конфигурация цифр и точек. На клавише написана либо точка, либо цифра от 1 до 9. В момент времени t игрок должен одновременно нажать на все клавиши, на которых написана цифра t. Гоша и Тимофей могут нажать в один момент времени на k клавиш каждый. Если в момент времени t были нажаты все нужные клавиши, то игроки получают 1 балл.\n",
    "Найдите число баллов, которое смогут заработать Гоша и Тимофей, если будут нажимать на клавиши вдвоём.\n",
    "\n",
    "![This is an image](https://contest.yandex.ru/testsys/statement-image?imageId=cb3cdeef693f05abf245a66df9e312d48c7c2501e5307354ef9722bb8b9a2e5f)\n",
    "\n",
    "#### Формат ввода\n",
    "\n",
    "В первой строке дано целое число k (1 ≤ k ≤ 5).\n",
    "В четырёх следующих строках задан вид тренажёра –— по 4 символа в каждой строке. Каждый символ —– либо точка, либо цифра от 1 до 9. Символы одной строки идут подряд и не разделены пробелами.\n",
    "\n",
    "#### Формат вывода\n",
    "\n",
    "Выведите единственное число –— максимальное количество баллов, которое смогут набрать Гоша и Тимофей."
   ]
  },
  {
   "cell_type": "code",
   "execution_count": 37,
   "metadata": {},
   "outputs": [],
   "source": [
    "# function\n",
    "\n",
    "def main(qty, trainer):\n",
    "\n",
    "    result = 0\n",
    "\n",
    "    nums_set = set()\n",
    "\n",
    "    for i in range(1, 10):\n",
    "        attempt = qty * 2\n",
    "        for j in trainer:\n",
    "            if j not in nums_set:\n",
    "                nums_set.add(j)\n",
    "            if str(i) == j:\n",
    "                attempt -= 1\n",
    "\n",
    "        if str(i) in nums_set and attempt >= 0: \n",
    "            result += 1\n",
    "\n",
    "    return result\n"
   ]
  },
  {
   "cell_type": "code",
   "execution_count": 38,
   "metadata": {},
   "outputs": [
    {
     "name": "stdout",
     "output_type": "stream",
     "text": [
      "{'.', '1', '3', '2'}\n",
      "2\n",
      "{'1', '9'}\n",
      "1\n",
      "{'1'}\n",
      "0\n"
     ]
    }
   ],
   "source": [
    "# tests\n",
    "assert(main(3, ['1', '2', '3', '1', '2', '.', '.', '2', '2', '.', '.', '2', '2', '.', '.', '2'])) == 2\n",
    "assert(main(4, ['1', '1', '1', '1', '9', '9', '9', '9', '1', '1', '1', '1', '9', '9', '1', '1'])) == 1\n",
    "assert(main(4, ['1', '1', '1', '1', '1', '1', '1', '1', '1', '1', '1', '1', '1', '1', '1', '1'])) == 0\n"
   ]
  },
  {
   "cell_type": "code",
   "execution_count": 40,
   "metadata": {},
   "outputs": [
    {
     "name": "stdout",
     "output_type": "stream",
     "text": [
      "['1', '2', '3', '1', '2', '.', '.', '2', '2', '.', '.', '2', '2', '.', '.', '2']\n",
      "{'.', '1', '3', '2'}\n",
      "2\n",
      "2\n"
     ]
    }
   ],
   "source": [
    "qty = int(input())\n",
    "array = []\n",
    "for _ in range(0, 4):\n",
    "\tarray = array + list(input())\n",
    "print(main(qty, array))"
   ]
  }
 ],
 "metadata": {
  "interpreter": {
   "hash": "12a336509fe4018928cdcecd29613d73385d0ef1b4bdae536ecb3476b65f67e3"
  },
  "kernelspec": {
   "display_name": "Python 3.10.2 ('venv': venv)",
   "language": "python",
   "name": "python3"
  },
  "language_info": {
   "codemirror_mode": {
    "name": "ipython",
    "version": 3
   },
   "file_extension": ".py",
   "mimetype": "text/x-python",
   "name": "python",
   "nbconvert_exporter": "python",
   "pygments_lexer": "ipython3",
   "version": "3.10.2"
  },
  "orig_nbformat": 4
 },
 "nbformat": 4,
 "nbformat_minor": 2
}
