{
 "cells": [
  {
   "cell_type": "markdown",
   "metadata": {},
   "source": [
    "#### УСЛОВИЕ\n",
    "\n",
    "Тимофей готовит доклад ко дню открытых дверей кафедры Теории чисел. Он собирается рассказать про Основную теорему арифметики. В соответствии с этой теоремой, любое число раскладывается на произведение простых множителей единственным образом –— с точностью до их перестановки.\n",
    "Например, число 8 можно представить как 2 × 2 × 2.\n",
    "Число 50 –— как 2 × 5 × 5 (или 5 × 5 × 2, или 5 × 2 × 5). Три варианта отличаются лишь порядком следования множителей.\n",
    "Разложение числа на простые множители называется факторизацией числа.\n",
    "Факторизацию в уме делать сложно, поэтому помогите Тимофею написать для этого программу.\n",
    "\n",
    "#### Формат ввода\n",
    "В единственной строке дано число n (2 ≤ n ≤ 109), которое нужно факторизовать.\n",
    "\n",
    "#### Формат вывода\n",
    "Выведите в порядке неубывания простые множители, на которые раскладывается число n."
   ]
  },
  {
   "cell_type": "markdown",
   "metadata": {},
   "source": [
    "#### Понимание\n",
    "Всё понятно"
   ]
  },
  {
   "cell_type": "code",
   "execution_count": 60,
   "metadata": {},
   "outputs": [],
   "source": [
    "# slow\n",
    "\n",
    "def factorize(num):\n",
    "    \n",
    "    i = 2\n",
    "\n",
    "    result = []\n",
    "\n",
    "    while i <= num:\n",
    "        if num % i == 0:\n",
    "            result.append(str(i))\n",
    "            num = num // i\n",
    "            i = 2\n",
    "        else:\n",
    "            i += 1\n",
    "\n",
    "    return ' '.join(result)\n",
    "                 "
   ]
  },
  {
   "cell_type": "code",
   "execution_count": 61,
   "metadata": {},
   "outputs": [],
   "source": [
    "assert(factorize(8)) == '2 2 2'\n",
    "assert(factorize(13)) == '13'\n",
    "assert(factorize(100)) == '2 2 5 5'\n",
    "assert(factorize(862399)) == '862399'\n",
    "assert(factorize(917521579)) == '13 70578583'\n"
   ]
  },
  {
   "cell_type": "code",
   "execution_count": 173,
   "metadata": {},
   "outputs": [],
   "source": [
    "# fast\n",
    "\n",
    "def factorize(num):\n",
    "    \n",
    "    i = 2\n",
    "\n",
    "    result = []\n",
    "\n",
    "    while i * i <= num:\n",
    "        if num % i == 0:\n",
    "            result.append(str(i))\n",
    "            num //= i\n",
    "        else:\n",
    "            i += 1\n",
    "    result.append(str(num))\n",
    "\n",
    "    return ' '.join(result)"
   ]
  },
  {
   "cell_type": "code",
   "execution_count": 174,
   "metadata": {},
   "outputs": [],
   "source": [
    "assert(factorize(8)) == '2 2 2'\n",
    "assert(factorize(13)) == '13'\n",
    "assert(factorize(100)) == '2 2 5 5'\n",
    "assert(factorize(862399)) == '862399'\n",
    "assert(factorize(917521579)) == '13 70578583'"
   ]
  }
 ],
 "metadata": {
  "interpreter": {
   "hash": "12a336509fe4018928cdcecd29613d73385d0ef1b4bdae536ecb3476b65f67e3"
  },
  "kernelspec": {
   "display_name": "Python 3.10.2 ('venv': venv)",
   "language": "python",
   "name": "python3"
  },
  "language_info": {
   "codemirror_mode": {
    "name": "ipython",
    "version": 3
   },
   "file_extension": ".py",
   "mimetype": "text/x-python",
   "name": "python",
   "nbconvert_exporter": "python",
   "pygments_lexer": "ipython3",
   "version": "3.10.2"
  }
 },
 "nbformat": 4,
 "nbformat_minor": 2
}
