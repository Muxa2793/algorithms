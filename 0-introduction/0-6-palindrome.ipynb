{
 "cells": [
  {
   "cell_type": "markdown",
   "metadata": {},
   "source": [
    "#### УСЛОВИЕ\n",
    "\n",
    "Помогите Васе понять, будет ли фраза палиндромом. Учитываются только буквы и цифры, заглавные и строчные буквы считаются одинаковыми.\n",
    "\n",
    "#### Формат ввода\n",
    "\n",
    "Решение должно работать за O(N), где N — длина строки на входе.\n"
   ]
  },
  {
   "cell_type": "markdown",
   "metadata": {},
   "source": [
    "#### Понимание\n",
    "Всё понятно"
   ]
  },
  {
   "cell_type": "code",
   "execution_count": 65,
   "metadata": {},
   "outputs": [],
   "source": [
    "import string\n",
    "\n",
    "def palindrome(st):\n",
    "    symbols = set(string.punctuation + string.digits + string.whitespace)\n",
    "    result = True\n",
    "    start, end = 0, len(st) - 1\n",
    "\n",
    "    while start < end:\n",
    "        while st[start] in symbols:\n",
    "            start += 1\n",
    "        while st[end] in symbols:\n",
    "            end -= 1\n",
    "        if st[start].lower() != st[end].lower():\n",
    "            result = False\n",
    "            break\n",
    "        start += 1\n",
    "        end -= 1\n",
    "    return result\n"
   ]
  },
  {
   "cell_type": "code",
   "execution_count": 66,
   "metadata": {},
   "outputs": [],
   "source": [
    "assert(palindrome('A man, a plan, a canal: Panama')) == True\n",
    "assert(palindrome('zo')) == False"
   ]
  }
 ],
 "metadata": {
  "interpreter": {
   "hash": "12a336509fe4018928cdcecd29613d73385d0ef1b4bdae536ecb3476b65f67e3"
  },
  "kernelspec": {
   "display_name": "Python 3.10.2 ('venv': venv)",
   "language": "python",
   "name": "python3"
  },
  "language_info": {
   "codemirror_mode": {
    "name": "ipython",
    "version": 3
   },
   "file_extension": ".py",
   "mimetype": "text/x-python",
   "name": "python",
   "nbconvert_exporter": "python",
   "pygments_lexer": "ipython3",
   "version": "3.10.2"
  }
 },
 "nbformat": 4,
 "nbformat_minor": 2
}
