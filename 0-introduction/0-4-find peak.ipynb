{
 "cells": [
  {
   "cell_type": "markdown",
   "metadata": {},
   "source": [
    "#### УСЛОВИЕ\n",
    "\n",
    "Метеорологическая служба вашего города решила исследовать погоду новым способом. Под температурой воздуха в конкретный день будем понимать максимальную температуру в этот день. Назовём хаотичностью погоды за n дней количество дней, в которые температура строго больше, чем в день до (если такой существует) и в день после текущего (если такой существует). Например, если за 5 дней максимальная температура воздуха составляла [1, 2, 5, 4, 8] градусов, то хаотичность за этот период равна 2: в 3-й и 5-й дни выполнялись описанные условия. Определите по ежедневным показаниям температуры хаотичность погоды за этот период.\n",
    "Заметим, что если число показаний n=1, то единственный день будет хаотичным.\n",
    "\n",
    "#### Формат ввода\n",
    "\n",
    "В первой строке дано число n –— длина периода измерений в днях, 1 ≤ n≤ 105. Во второй строке даны n целых чисел –— значения температуры в каждый из n дней. Значения температуры не превосходят 273 по модулю.\n",
    "\n",
    "#### Формат вывода\n",
    "\n",
    "Выведите единственное число — хаотичность за данный период."
   ]
  },
  {
   "cell_type": "code",
   "execution_count": 1,
   "metadata": {},
   "outputs": [],
   "source": [
    "# function\n",
    "\n",
    "def weather(n, array):\n",
    "\tif n == 1:\n",
    "\t\treturn 1\n",
    "\tresult = 0\n",
    "\tfor i in range(n):\n",
    "\t\tif i == 0 and array[i] > array[i+1]:\n",
    "\t\t\tresult += 1\n",
    "\t\telif i == n-1 and array[i] > array[i-1]:\n",
    "\t\t\tresult += 1\n",
    "\t\telif array[i-1] < array[i] > array[i+1]:\n",
    "\t\t\tresult += 1\n",
    "\tresult = str(result)\n",
    "\treturn result"
   ]
  },
  {
   "cell_type": "code",
   "execution_count": 2,
   "metadata": {},
   "outputs": [],
   "source": [
    "# tests\n",
    "assert(weather(7, [-1, -10, -8, 0, 2, 0, 5])) == '3'\n",
    "assert(weather(5, [1, 2, 5, 4, 8])) == '2'"
   ]
  }
 ],
 "metadata": {
  "interpreter": {
   "hash": "12a336509fe4018928cdcecd29613d73385d0ef1b4bdae536ecb3476b65f67e3"
  },
  "kernelspec": {
   "display_name": "Python 3.10.2 ('venv': venv)",
   "language": "python",
   "name": "python3"
  },
  "language_info": {
   "codemirror_mode": {
    "name": "ipython",
    "version": 3
   },
   "file_extension": ".py",
   "mimetype": "text/x-python",
   "name": "python",
   "nbconvert_exporter": "python",
   "pygments_lexer": "ipython3",
   "version": "3.10.2"
  },
  "orig_nbformat": 4
 },
 "nbformat": 4,
 "nbformat_minor": 2
}
