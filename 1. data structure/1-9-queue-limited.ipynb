{
 "cells": [
  {
   "cell_type": "markdown",
   "metadata": {},
   "source": [
    "#### УСЛОВИЕ\n",
    "\n",
    "Астрологи объявили день очередей ограниченного размера. Тимофею нужно написать класс MyQueueSized, который принимает параметр max_size, означающий максимально допустимое количество элементов в очереди.\n",
    "Помогите ему —– реализуйте программу, которая будет эмулировать работу такой очереди. Функции, которые надо поддержать, описаны в формате ввода.\n",
    "\n",
    "#### Формат ввода\n",
    "\n",
    "В первой строке записано одно число — количество команд, оно не превосходит 5000.\n",
    "Во второй строке задан максимально допустимый размер очереди, он не превосходит 5000.\n",
    "Далее идут команды по одной на строке. Команды могут быть следующих видов:\n",
    "push(x) — добавить число x в очередь;\n",
    "pop() — удалить число из очереди и вывести на печать;\n",
    "peek() — напечатать первое число в очереди;\n",
    "size() — вернуть размер очереди;\n",
    "При превышении допустимого размера очереди нужно вывести «error». При вызове операций pop() или peek() для пустой очереди нужно вывести «None».\n",
    "\n",
    "#### Формат вывода\n",
    "\n",
    "Напечатайте результаты выполнения нужных команд, по одному на строке."
   ]
  },
  {
   "cell_type": "code",
   "execution_count": null,
   "metadata": {},
   "outputs": [],
   "source": [
    "# function\n",
    "\n",
    "class MyQueueSized():\n",
    "    def __init__(self, n):\n",
    "        self.queue = [None] * n\n",
    "        self.max_n = n\n",
    "        self.head = 0\n",
    "        self.tail = 0\n",
    "        self.queue_size = 0\n",
    "\n",
    "    def size(self):\n",
    "        print(self.queue_size)\n",
    "\n",
    "    def push(self, x):\n",
    "        if self.queue_size == self.max_n:\n",
    "            print('error')\n",
    "            return False\n",
    "\n",
    "        self.queue[self.tail] = x\n",
    "        self.tail = (self.tail + 1) % self.max_n\n",
    "        self.queue_size += 1\n",
    "\n",
    "    def pop(self):\n",
    "        if self.queue_size == 0:\n",
    "            return None\n",
    "\n",
    "        x = self.queue[self.head]\n",
    "        self.queue[self.head] = None\n",
    "        self.head = (self.head + 1) % self.max_n\n",
    "        self.queue_size -= 1\n",
    "        return x\n",
    "\n",
    "    def peek(self):\n",
    "        print(self.queue[self.head])\n",
    "\n",
    "    def __str__(self):\n",
    "        return str(self.queue)\n",
    "\n",
    "m = int(input())\n",
    "n = int(input())\n",
    "\n",
    "queue = MyQueueSized(n)\n",
    "\n",
    "for i in range(0, m):\n",
    "    commands = input().split()\n",
    "\n",
    "    if commands[0] == 'size':\n",
    "        queue.size()\n",
    "    elif commands[0] == 'push':\n",
    "        queue.push(commands[1])\n",
    "    elif commands[0] == 'pop':\n",
    "        print(queue.pop())\n",
    "    elif commands[0] == 'peek':\n",
    "        queue.peek()\n"
   ]
  }
 ],
 "metadata": {
  "interpreter": {
   "hash": "12a336509fe4018928cdcecd29613d73385d0ef1b4bdae536ecb3476b65f67e3"
  },
  "kernelspec": {
   "display_name": "Python 3.10.2 ('venv': venv)",
   "language": "python",
   "name": "python3"
  },
  "language_info": {
   "name": "python",
   "version": "3.10.2"
  },
  "orig_nbformat": 4
 },
 "nbformat": 4,
 "nbformat_minor": 2
}
