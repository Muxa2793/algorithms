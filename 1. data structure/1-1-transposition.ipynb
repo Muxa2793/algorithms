{
 "cells": [
  {
   "cell_type": "markdown",
   "metadata": {},
   "source": [
    "#### УСЛОВИЕ\n",
    "\n",
    "Алла получила задание, связанное с мониторингом работы различных серверов. Требуется понять, сколько времени обрабатываются определённые запросы на конкретных серверах. Эту информацию нужно хранить в матрице, где номер столбца соответствуют идентификатору запроса, а номер строки — идентификатору сервера. Алла перепутала строки и столбцы местами. С каждым бывает. Помогите ей исправить баг.\n",
    "Есть матрица размера m × n. Нужно написать функцию, которая её транспонирует.\n",
    "Транспонированная матрица получается из исходной заменой строк на столбцы.\n",
    "Например, для матрицы А (слева) транспонированной будет следующая матрица (справа):\n",
    "\n",
    "![This is an image](https://contest.yandex.ru/testsys/statement-image?imageId=69ff475b66bdbc91024d48b48ee588d5a58645a20b1433663a9e7981bef14e3d)\n",
    "\n",
    "#### Формат ввода\n",
    "\n",
    "В первой строке задано число n — количество строк матрицы.\n",
    "Во второй строке задано m — число столбцов, m и n не превосходят 1000. В следующих n строках задана матрица. Числа в ней не превосходят по модулю 1000.\n",
    "\n",
    "#### Формат вывода\n",
    "\n",
    "Напечатайте транспонированную матрицу в том же формате, который задан во входных данных. Каждая строка матрицы выводится на отдельной строке, элементы разделяются пробелами."
   ]
  },
  {
   "cell_type": "code",
   "execution_count": 40,
   "metadata": {},
   "outputs": [],
   "source": [
    "# function\n",
    "\n",
    "def main(array, n, m):\n",
    "\n",
    "    result = []\n",
    "\n",
    "    for i in range(0, m):\n",
    "        tmp = []\n",
    "        for j in range(0, n):\n",
    "            tmp.append(str(array[j][i]))\n",
    "        result.append(' '.join(tmp))\n",
    "\n",
    "    return result"
   ]
  },
  {
   "cell_type": "code",
   "execution_count": 41,
   "metadata": {},
   "outputs": [
    {
     "name": "stdout",
     "output_type": "stream",
     "text": [
      "['1 0 7 2', '2 2 4 7', '3 6 1 0']\n"
     ]
    },
    {
     "ename": "AssertionError",
     "evalue": "",
     "output_type": "error",
     "traceback": [
      "\u001b[0;31m---------------------------------------------------------------------------\u001b[0m",
      "\u001b[0;31mAssertionError\u001b[0m                            Traceback (most recent call last)",
      "\u001b[1;32m/Users/dreadnote/Projects/yandex/Dev/alghoritms/1. data structure/transposition.ipynb Cell 3'\u001b[0m in \u001b[0;36m<cell line: 2>\u001b[0;34m()\u001b[0m\n\u001b[1;32m      <a href='vscode-notebook-cell:/Users/dreadnote/Projects/yandex/Dev/alghoritms/1.%20data%20structure/transposition.ipynb#ch0000002?line=0'>1</a>\u001b[0m \u001b[39m# tests\u001b[39;00m\n\u001b[0;32m----> <a href='vscode-notebook-cell:/Users/dreadnote/Projects/yandex/Dev/alghoritms/1.%20data%20structure/transposition.ipynb#ch0000002?line=1'>2</a>\u001b[0m \u001b[39massert\u001b[39;00m(main([[\u001b[39m1\u001b[39m, \u001b[39m2\u001b[39m, \u001b[39m3\u001b[39m], [\u001b[39m0\u001b[39m, \u001b[39m2\u001b[39m, \u001b[39m6\u001b[39m], [\u001b[39m7\u001b[39m, \u001b[39m4\u001b[39m, \u001b[39m1\u001b[39m], [\u001b[39m2\u001b[39m, \u001b[39m7\u001b[39m, \u001b[39m0\u001b[39m]], \u001b[39m4\u001b[39m, \u001b[39m3\u001b[39m)) \u001b[39m==\u001b[39m [[\u001b[39m1\u001b[39m, \u001b[39m0\u001b[39m, \u001b[39m7\u001b[39m, \u001b[39m2\u001b[39m], [\u001b[39m2\u001b[39m, \u001b[39m2\u001b[39m, \u001b[39m4\u001b[39m, \u001b[39m7\u001b[39m], [\u001b[39m3\u001b[39m, \u001b[39m6\u001b[39m, \u001b[39m1\u001b[39m, \u001b[39m0\u001b[39m]]\n\u001b[1;32m      <a href='vscode-notebook-cell:/Users/dreadnote/Projects/yandex/Dev/alghoritms/1.%20data%20structure/transposition.ipynb#ch0000002?line=2'>3</a>\u001b[0m \u001b[39massert\u001b[39;00m(main([[\u001b[39m-\u001b[39m\u001b[39m7\u001b[39m, \u001b[39m-\u001b[39m\u001b[39m1\u001b[39m, \u001b[39m0\u001b[39m, \u001b[39m-\u001b[39m\u001b[39m4\u001b[39m, \u001b[39m-\u001b[39m\u001b[39m9\u001b[39m], [\u001b[39m5\u001b[39m, \u001b[39m-\u001b[39m\u001b[39m1\u001b[39m, \u001b[39m2\u001b[39m, \u001b[39m2\u001b[39m, \u001b[39m9\u001b[39m], [\u001b[39m3\u001b[39m, \u001b[39m1\u001b[39m, \u001b[39m-\u001b[39m\u001b[39m8\u001b[39m, \u001b[39m-\u001b[39m\u001b[39m1\u001b[39m, \u001b[39m-\u001b[39m\u001b[39m7\u001b[39m], [\u001b[39m9\u001b[39m, \u001b[39m0\u001b[39m, \u001b[39m8\u001b[39m, \u001b[39m-\u001b[39m\u001b[39m8\u001b[39m, \u001b[39m-\u001b[39m\u001b[39m1\u001b[39m], [\u001b[39m2\u001b[39m, \u001b[39m4\u001b[39m, \u001b[39m5\u001b[39m, \u001b[39m2\u001b[39m, \u001b[39m8\u001b[39m], [\u001b[39m-\u001b[39m\u001b[39m7\u001b[39m, \u001b[39m10\u001b[39m, \u001b[39m0\u001b[39m, \u001b[39m-\u001b[39m\u001b[39m4\u001b[39m, \u001b[39m-\u001b[39m\u001b[39m8\u001b[39m], [\u001b[39m-\u001b[39m\u001b[39m3\u001b[39m, \u001b[39m10\u001b[39m, \u001b[39m-\u001b[39m\u001b[39m7\u001b[39m, \u001b[39m10\u001b[39m, \u001b[39m3\u001b[39m], [\u001b[39m1\u001b[39m, \u001b[39m6\u001b[39m, \u001b[39m-\u001b[39m\u001b[39m7\u001b[39m, \u001b[39m-\u001b[39m\u001b[39m5\u001b[39m, \u001b[39m9\u001b[39m], [\u001b[39m-\u001b[39m\u001b[39m1\u001b[39m, \u001b[39m9\u001b[39m, \u001b[39m9\u001b[39m, \u001b[39m1\u001b[39m, \u001b[39m9\u001b[39m]], \u001b[39m9\u001b[39m, \u001b[39m5\u001b[39m)) \u001b[39m==\u001b[39m [[\u001b[39m-\u001b[39m\u001b[39m7\u001b[39m, \u001b[39m5\u001b[39m, \u001b[39m3\u001b[39m, \u001b[39m9\u001b[39m, \u001b[39m2\u001b[39m, \u001b[39m-\u001b[39m\u001b[39m7\u001b[39m, \u001b[39m-\u001b[39m\u001b[39m3\u001b[39m, \u001b[39m1\u001b[39m, \u001b[39m-\u001b[39m\u001b[39m1\u001b[39m], [\u001b[39m-\u001b[39m\u001b[39m1\u001b[39m, \u001b[39m-\u001b[39m\u001b[39m1\u001b[39m, \u001b[39m1\u001b[39m, \u001b[39m0\u001b[39m, \u001b[39m4\u001b[39m, \u001b[39m10\u001b[39m, \u001b[39m10\u001b[39m, \u001b[39m6\u001b[39m, \u001b[39m9\u001b[39m], [\u001b[39m0\u001b[39m, \u001b[39m2\u001b[39m, \u001b[39m-\u001b[39m\u001b[39m8\u001b[39m, \u001b[39m8\u001b[39m, \u001b[39m5\u001b[39m, \u001b[39m0\u001b[39m, \u001b[39m-\u001b[39m\u001b[39m7\u001b[39m, \u001b[39m-\u001b[39m\u001b[39m7\u001b[39m, \u001b[39m9\u001b[39m], [\u001b[39m-\u001b[39m\u001b[39m4\u001b[39m, \u001b[39m2\u001b[39m, \u001b[39m-\u001b[39m\u001b[39m1\u001b[39m, \u001b[39m-\u001b[39m\u001b[39m8\u001b[39m, \u001b[39m2\u001b[39m, \u001b[39m-\u001b[39m\u001b[39m4\u001b[39m, \u001b[39m10\u001b[39m, \u001b[39m-\u001b[39m\u001b[39m5\u001b[39m, \u001b[39m1\u001b[39m], [\u001b[39m-\u001b[39m\u001b[39m9\u001b[39m, \u001b[39m9\u001b[39m, \u001b[39m-\u001b[39m\u001b[39m7\u001b[39m, \u001b[39m-\u001b[39m\u001b[39m1\u001b[39m, \u001b[39m8\u001b[39m, \u001b[39m-\u001b[39m\u001b[39m8\u001b[39m, \u001b[39m3\u001b[39m, \u001b[39m9\u001b[39m, \u001b[39m9\u001b[39m]]\n\u001b[1;32m      <a href='vscode-notebook-cell:/Users/dreadnote/Projects/yandex/Dev/alghoritms/1.%20data%20structure/transposition.ipynb#ch0000002?line=4'>5</a>\u001b[0m \u001b[39mlist\u001b[39m(\u001b[39mmap\u001b[39m(\u001b[39mint\u001b[39m, \u001b[39minput\u001b[39m()\u001b[39m.\u001b[39msplit()))\n",
      "\u001b[0;31mAssertionError\u001b[0m: "
     ]
    }
   ],
   "source": [
    "# tests\n",
    "assert(main([[1, 2, 3], [0, 2, 6], [7, 4, 1], [2, 7, 0]], 4, 3)) == [[1, 0, 7, 2], [2, 2, 4, 7], [3, 6, 1, 0]]\n",
    "assert(main([[-7, -1, 0, -4, -9], [5, -1, 2, 2, 9], [3, 1, -8, -1, -7], [9, 0, 8, -8, -1], [2, 4, 5, 2, 8], [-7, 10, 0, -4, -8], [-3, 10, -7, 10, 3], [1, 6, -7, -5, 9], [-1, 9, 9, 1, 9]], 9, 5)) == [[-7, 5, 3, 9, 2, -7, -3, 1, -1], [-1, -1, 1, 0, 4, 10, 10, 6, 9], [0, 2, -8, 8, 5, 0, -7, -7, 9], [-4, 2, -1, -8, 2, -4, 10, -5, 1], [-9, 9, -7, -1, 8, -8, 3, 9, 9]]\n",
    "\n",
    "list(map(int, input().split()))\n"
   ]
  }
 ],
 "metadata": {
  "interpreter": {
   "hash": "12a336509fe4018928cdcecd29613d73385d0ef1b4bdae536ecb3476b65f67e3"
  },
  "kernelspec": {
   "display_name": "Python 3.10.2 ('venv': venv)",
   "language": "python",
   "name": "python3"
  },
  "language_info": {
   "codemirror_mode": {
    "name": "ipython",
    "version": 3
   },
   "file_extension": ".py",
   "mimetype": "text/x-python",
   "name": "python",
   "nbconvert_exporter": "python",
   "pygments_lexer": "ipython3",
   "version": "3.10.2"
  },
  "orig_nbformat": 4
 },
 "nbformat": 4,
 "nbformat_minor": 2
}
